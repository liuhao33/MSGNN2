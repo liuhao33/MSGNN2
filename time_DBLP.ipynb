{
 "cells": [
  {
   "cell_type": "code",
   "execution_count": 3,
   "metadata": {},
   "outputs": [],
   "source": [
    "import time\n",
    "from utils.data import load_DBLP_data2\n",
    "import utils.preprocess\n",
    "import numpy as np"
   ]
  },
  {
   "cell_type": "markdown",
   "metadata": {},
   "source": [
    "## Load DBLP"
   ]
  },
  {
   "cell_type": "code",
   "execution_count": 4,
   "metadata": {},
   "outputs": [],
   "source": [
    "data_path = r'./data/DBLP_processed'\n",
    "_, __, ___, ____, adj, type_mask = load_DBLP_data2(prefix = data_path)"
   ]
  },
  {
   "cell_type": "code",
   "execution_count": 12,
   "metadata": {},
   "outputs": [],
   "source": [
    "num_ntypes = len(np.unique(type_mask))\n",
    "raw_dims = [sum(type_mask==p) for p in range(num_ntypes)]\n",
    "prefix_operator = np.ones((len(raw_dims)+1, len(raw_dims)))\n",
    "prefix_operator = np.tril(prefix_operator, k=-1)   \n",
    "prefix_operator = prefix_operator.dot(raw_dims).astype(int)"
   ]
  },
  {
   "cell_type": "markdown",
   "metadata": {},
   "source": [
    "## Schema"
   ]
  },
  {
   "cell_type": "code",
   "execution_count": 13,
   "metadata": {},
   "outputs": [],
   "source": [
    "schema = {\n",
    "    'stem':[0,1,3],\n",
    "    'branch':{0:[1,2]}\n",
    "}"
   ]
  },
  {
   "cell_type": "markdown",
   "metadata": {},
   "source": [
    "## Instance search"
   ]
  },
  {
   "cell_type": "code",
   "execution_count": null,
   "metadata": {},
   "outputs": [],
   "source": [
    "t = time.time()\n",
    "chain_intances = utils.preprocess.get_intances(adj, type_mask, schema, prefix_operator) # match chain instances\n",
    "subgraphs = utils.preprocess.get_schema_subgraphs(schema, chain_intances) # reconstruction\n",
    "print(str(round(time.time()-t,3))+'s')\n",
    "subgraphs = subgraphs[subgraphs.columns.sort_values()]"
   ]
  },
  {
   "cell_type": "markdown",
   "metadata": {},
   "source": [
    "parallel enabled"
   ]
  },
  {
   "cell_type": "code",
   "execution_count": null,
   "metadata": {},
   "outputs": [],
   "source": [
    "t = time.time()\n",
    "chain_intances = utils.preprocess.get_intances(adj, type_mask, schema, prefix_operator) # match chain instances\n",
    "subgraphs = utils.preprocess.get_schema_subgraphs_parallel(schema, chain_intances) # reconstruction\n",
    "print(str(round(time.time()-t,3))+'s with parallel enabled')\n",
    "subgraphs = subgraphs[subgraphs.columns.sort_values()]"
   ]
  }
 ],
 "metadata": {
  "kernelspec": {
   "display_name": "ohnn",
   "language": "python",
   "name": "python3"
  },
  "language_info": {
   "codemirror_mode": {
    "name": "ipython",
    "version": 3
   },
   "file_extension": ".py",
   "mimetype": "text/x-python",
   "name": "python",
   "nbconvert_exporter": "python",
   "pygments_lexer": "ipython3",
   "version": "3.7.12"
  }
 },
 "nbformat": 4,
 "nbformat_minor": 2
}
