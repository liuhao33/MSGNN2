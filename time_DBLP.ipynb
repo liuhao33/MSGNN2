{
 "cells": [
  {
   "cell_type": "code",
   "execution_count": 3,
   "metadata": {},
   "outputs": [],
   "source": [
    "import time\n",
    "from utils.data import load_DBLP_data2\n",
    "import utils.preprocess\n",
    "import numpy as np"
   ]
  },
  {
   "cell_type": "markdown",
   "metadata": {},
   "source": [
    "## Load data"
   ]
  },
  {
   "cell_type": "code",
   "execution_count": 4,
   "metadata": {},
   "outputs": [],
   "source": [
    "data_path = r'./data/DBLP_processed'\n",
    "_, __, ___, ____, adj, type_mask = load_DBLP_data2(prefix = data_path)"
   ]
  },
  {
   "cell_type": "code",
   "execution_count": 12,
   "metadata": {},
   "outputs": [],
   "source": [
    "num_ntypes = len(np.unique(type_mask))\n",
    "raw_dims = [sum(type_mask==p) for p in range(num_ntypes)]\n",
    "prefix_operator = np.ones((len(raw_dims)+1, len(raw_dims)))\n",
    "prefix_operator = np.tril(prefix_operator, k=-1)   \n",
    "prefix_operator = prefix_operator.dot(raw_dims).astype(int)"
   ]
  },
  {
   "cell_type": "markdown",
   "metadata": {},
   "source": [
    "## Schema"
   ]
  },
  {
   "cell_type": "code",
   "execution_count": 13,
   "metadata": {},
   "outputs": [],
   "source": [
    "plan = {0: {0: {'main': [0, 1, 3]}}, 1: {0: {'main': [1, 2], 'to': 0}}}  # output of Schema decomposition\n",
    "\n",
    "schema = utils.preprocess.plan_transform_v2(plan)"
   ]
  },
  {
   "cell_type": "markdown",
   "metadata": {},
   "source": [
    "## Instance search"
   ]
  },
  {
   "cell_type": "markdown",
   "metadata": {},
   "source": [
    "### Direct search"
   ]
  },
  {
   "cell_type": "code",
   "execution_count": null,
   "metadata": {},
   "outputs": [],
   "source": [
    "t = time.time()\n",
    "chain_intances = utils.preprocess.get_intances(adj, type_mask, schema, prefix_operator) # match chain instances\n",
    "subgraphs = utils.preprocess.get_schema_subgraphs(schema, chain_intances) # reconstruction\n",
    "subgraphs = subgraphs[subgraphs.columns.sort_values()]\n",
    "print(str(round(time.time()-t,3))+'s')"
   ]
  },
  {
   "cell_type": "markdown",
   "metadata": {},
   "source": [
    "### Parallel enabled search"
   ]
  },
  {
   "cell_type": "code",
   "execution_count": null,
   "metadata": {},
   "outputs": [],
   "source": [
    "t = time.time()\n",
    "chain_intances = utils.preprocess.get_intances(adj, type_mask, schema, prefix_operator) # match chain instances\n",
    "subgraphs = utils.preprocess.get_schema_subgraphs_parallel(schema, chain_intances) # reconstruction\n",
    "subgraphs = subgraphs[subgraphs.columns.sort_values()]\n",
    "print(str(round(time.time()-t,3))+'s with parallel enabled')"
   ]
  }
 ],
 "metadata": {
  "kernelspec": {
   "display_name": "ohnn",
   "language": "python",
   "name": "python3"
  },
  "language_info": {
   "codemirror_mode": {
    "name": "ipython",
    "version": 3
   },
   "file_extension": ".py",
   "mimetype": "text/x-python",
   "name": "python",
   "nbconvert_exporter": "python",
   "pygments_lexer": "ipython3",
   "version": "3.7.12"
  }
 },
 "nbformat": 4,
 "nbformat_minor": 2
}
